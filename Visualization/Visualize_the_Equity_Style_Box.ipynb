{
  "nbformat": 4,
  "nbformat_minor": 0,
  "metadata": {
    "colab": {
      "provenance": []
    },
    "kernelspec": {
      "name": "python3",
      "display_name": "Python 3"
    },
    "language_info": {
      "name": "python"
    }
  },
  "cells": [
    {
      "cell_type": "markdown",
      "source": [
        "# Visualize the Equity Style Box\n",
        "\n",
        "Name: Engineer Investor ([@egr_investor](https://x.com/egr_investor))\n",
        "\n",
        "Date: 05/25/2024"
      ],
      "metadata": {
        "id": "-UFZfH30EDc_"
      }
    },
    {
      "cell_type": "markdown",
      "source": [
        "# Visualize Equity Style Box\n",
        "\n",
        "This notebook demonstrates how to visualize an equity style box, a popular tool used by investors to categorize and understand the allocation of a portfolio across different styles and market capitalizations. An equity style box helps in understanding the diversification and risk exposure of a portfolio.\n",
        "\n",
        "## Introduction\n",
        "\n",
        "The equity style box divides a portfolio into a 3x3 grid, representing different styles (Value, Blend, Growth) and different market capitalizations (Large Cap, Mid Cap, Small Cap). Each cell in the grid shows the percentage of the portfolio allocated to a specific combination of style and market cap. The cells are color-coded based on the percentage values to provide a visual representation of the allocation.\n",
        "\n",
        "In this notebook, we will:\n",
        "1. Create a function to plot the equity style box using Matplotlib.\n",
        "2. Create a function to print the sum of allocations for each row (market-cap exposure) and each column (style exposure).\n",
        "3. Integrate these functions to visualize and analyze a sample portfolio.\n",
        "\n",
        "## Explanation of the Code\n",
        "\n",
        "### 1. Plotting the Equity Style Box\n",
        "\n",
        "The `plot_equity_style_box` function takes in the allocation data, category labels, and size labels, and plots a 3x3 grid representing the equity style box. The function color-codes each cell based on predefined ranges of allocation percentages.\n",
        "\n",
        "### 2. Printing the Sums\n",
        "\n",
        "The `print_sums` function calculates and prints the sum of allocations for each row and each column. This provides an aggregate view of the market-cap and style exposures of the portfolio.\n",
        "\n",
        "### 3. Main Function\n",
        "\n",
        "The `main` function integrates the plotting and printing functions. It also includes an assertion to ensure that the total allocation sums to 100%, which is a necessary condition for a valid portfolio allocation.\n",
        "\n",
        "### Example Portfolio\n",
        "\n",
        "We provide an example portfolio with specific allocations to demonstrate the functionality of the functions. The portfolio is represented as a 2D NumPy array where each element denotes the percentage allocation to a specific combination of style and market cap."
      ],
      "metadata": {
        "id": "nooVu5nxEmlC"
      }
    },
    {
      "cell_type": "markdown",
      "source": [
        "## Code"
      ],
      "metadata": {
        "id": "7CqCUdBrFASD"
      }
    },
    {
      "cell_type": "code",
      "source": [
        "import matplotlib.pyplot as plt\n",
        "import numpy as np\n",
        "\n",
        "def plot_equity_style_box(allocations, categories, sizes):\n",
        "    # Define the colors for different weight ranges\n",
        "    colors = {\n",
        "        '30+': '#1f77b4',\n",
        "        '20-29': '#6baed6',\n",
        "        '10-19': '#bdd7e7',\n",
        "        '5-9': '#eff3ff',\n",
        "        '0-4': '#f7fbff'\n",
        "    }\n",
        "\n",
        "    # Create a function to get color based on value\n",
        "    def get_color(value):\n",
        "        if value >= 30:\n",
        "            return colors['30+']\n",
        "        elif value >= 20:\n",
        "            return colors['20-29']\n",
        "        elif value >= 10:\n",
        "            return colors['10-19']\n",
        "        elif value >= 5:\n",
        "            return colors['5-9']\n",
        "        else:\n",
        "            return colors['0-4']\n",
        "\n",
        "    # Create the plot\n",
        "    fig, ax = plt.subplots(figsize=(3, 3))\n",
        "\n",
        "    # Plot the data\n",
        "    for i in range(allocations.shape[0]):\n",
        "        for j in range(allocations.shape[1]):\n",
        "            value = allocations[i, j]\n",
        "            color = get_color(value)\n",
        "            ax.add_patch(plt.Rectangle((j, 2 - i), 1, 1, fill=True, color=color))\n",
        "            ax.text(j + 0.5, 2 - i + 0.5, f'{value:.1f}', ha='center', va='center', fontsize=16, color='black' if value < 10 else 'white')\n",
        "\n",
        "    # Set the ticks and labels\n",
        "    ax.set_xticks(np.arange(len(categories)) + 0.5)\n",
        "    ax.set_yticks(np.arange(len(sizes)) + 0.5)\n",
        "    ax.set_xticklabels(categories, fontsize=14)\n",
        "    ax.set_yticklabels(sizes[::-1], fontsize=14, rotation=90)\n",
        "\n",
        "    # Set grid lines and limits\n",
        "    ax.set_xlim(0, len(categories))\n",
        "    ax.set_ylim(0, len(sizes))\n",
        "    ax.grid(False)\n",
        "    ax.set_xticks(np.arange(len(categories)), minor=True)\n",
        "    ax.set_yticks(np.arange(len(sizes)), minor=True)\n",
        "    ax.grid(which='minor', color='black', linestyle='-', linewidth=2)\n",
        "\n",
        "    # Hide the major ticks\n",
        "    ax.tick_params(which='major', bottom=False, left=False)\n",
        "\n",
        "    # Add a legend\n",
        "    legend_labels = ['30+', '20-29', '10-19', '5-9', '0-4']\n",
        "    legend_colors = [colors[label] for label in legend_labels]\n",
        "    legend_patches = [plt.Rectangle((0,0),1,1, color=color) for color in legend_colors]\n",
        "    ax.legend(legend_patches, legend_labels, title='Weight %', loc='center left', bbox_to_anchor=(1, 0.5))\n",
        "\n",
        "    plt.title('Equity Style Box', fontsize=20)\n",
        "    plt.show()\n",
        "\n",
        "def print_sums(allocations, categories, sizes):\n",
        "    # Calculate the sum of each row and column\n",
        "    row_sums = allocations.sum(axis=1)\n",
        "    col_sums = allocations.sum(axis=0)\n",
        "\n",
        "    # Print the sums of each row and column\n",
        "    print(\"Sum of each row (aggregate market-cap exposure):\")\n",
        "    for size, row_sum in zip(sizes, row_sums):\n",
        "        print(f\"{size}: {np.round(row_sum,1)}\")\n",
        "\n",
        "    print(\"\\nSum of each column (aggregate style exposure):\")\n",
        "    for category, col_sum in zip(categories, col_sums):\n",
        "        print(f\"{category}: {np.round(col_sum,1)}\")\n",
        "\n",
        "def main(allocations, categories, sizes):\n",
        "    # Assert that the total allocations sum to 100\n",
        "    assert np.abs(allocations.sum() - 100) < 1e-5, f\"Total allocations should sum to 100 but are {allocations.sum()}\"\n",
        "\n",
        "    # Plot the chart\n",
        "    plot_equity_style_box(allocations, categories, sizes)\n",
        "\n",
        "    # Print the sums\n",
        "    print_sums(allocations, categories, sizes)\n",
        "\n",
        "if __name__ == \"__main__\":\n",
        "    # Example portfolio allocations (in percentage)\n",
        "    allocations = np.array([\n",
        "        [12.2, 20.1, 31.5],  # Large Cap: [Value, Balanced, Growth]\n",
        "        [5.3, 7.5, 4.7],    # Mid Cap: [Value, Balanced, Growth]\n",
        "        [9.6, 6.5, 2.6]     # Small Cap: [Value, Balanced, Growth]\n",
        "    ])\n",
        "\n",
        "    # Labels for the chart\n",
        "    categories = ['Val', 'Bld', 'Gwth']\n",
        "    sizes = ['Lg', 'Mid', 'Sm']\n",
        "\n",
        "    # Run the main function\n",
        "    main(allocations, categories, sizes)\n"
      ],
      "metadata": {
        "colab": {
          "base_uri": "https://localhost:8080/",
          "height": 488
        },
        "id": "PIGKKsmV2xBV",
        "outputId": "20f5f889-040e-4d34-b0b2-553e5e07d8a1"
      },
      "execution_count": 54,
      "outputs": [
        {
          "output_type": "display_data",
          "data": {
            "text/plain": [
              "<Figure size 300x300 with 1 Axes>"
            ],
            "image/png": "[encoded data removed]"
          },
          "metadata": {}
        },
        {
          "output_type": "stream",
          "name": "stdout",
          "text": [
            "Sum of each row (aggregate market-cap exposure):\n",
            "Lg: 63.8\n",
            "Mid: 17.5\n",
            "Sm: 18.7\n",
            "\n",
            "Sum of each column (aggregate style exposure):\n",
            "Val: 27.1\n",
            "Bld: 34.1\n",
            "Gwth: 38.8\n"
          ]
        }
      ]
    },
    {
      "cell_type": "markdown",
      "source": [
        "## Running the Code\n",
        "\n",
        "To run the code, execute the notebook cells in order. The `main` function will validate the allocation data, plot the equity style box, and print the aggregate market-cap and style exposures of the sample portfolio. Feel free to modify the `allocations` array with your portfolio data to visualize and analyze different portfolios."
      ],
      "metadata": {
        "id": "L2BpG4WXEpGZ"
      }
    }
  ]
}