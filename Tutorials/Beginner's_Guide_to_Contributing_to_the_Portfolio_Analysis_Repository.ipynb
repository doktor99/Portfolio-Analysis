{
  "nbformat": 4,
  "nbformat_minor": 0,
  "metadata": {
    "colab": {
      "provenance": [],
      "authorship_tag": "ABX9TyPeO3obE9etSHJ6NQ6Y60ah",
      "include_colab_link": true
    },
    "kernelspec": {
      "name": "python3",
      "display_name": "Python 3"
    },
    "language_info": {
      "name": "python"
    }
  },
  "cells": [
    {
      "cell_type": "markdown",
      "metadata": {
        "id": "view-in-github",
        "colab_type": "text"
      },
      "source": [
        "<a href=\"https://colab.research.google.com/github/engineerinvestor/Portfolio-Analysis/blob/main/Tutorials/Beginner's_Guide_to_Contributing_to_the_Portfolio_Analysis_Repository.ipynb\" target=\"_parent\"><img src=\"https://colab.research.google.com/assets/colab-badge.svg\" alt=\"Open In Colab\"/></a>"
      ]
    },
    {
      "cell_type": "markdown",
      "source": [
        "# A Beginner's Guide to Contributing to the Portfolio Analysis Repository\n",
        "\n",
        "Name: Engineer Investor ([@egr_investor](https://twitter.com/egr_investor))\n",
        "\n",
        "Date: 05/27/2024"
      ],
      "metadata": {
        "id": "WkgBz6Lwza0p"
      }
    },
    {
      "cell_type": "markdown",
      "source": [
        "Here's a step-by-step guide on how to create a pull request to the Portfolio Analysis repository using Git on your laptop:\n",
        "\n",
        "### Step 1: Fork the Repository\n",
        "1. Go to the [Portfolio Analysis repository](https://github.com/engineerinvestor/Portfolio-Analysis) on GitHub.\n",
        "2. Click the \"Fork\" button in the top right corner to create a copy of the repository under your GitHub account.\n",
        "\n",
        "### Step 2: Clone the Forked Repository\n",
        "1. Open your terminal or command prompt.\n",
        "2. Clone the forked repository to your local machine using the following command, replacing `your-username` with your GitHub username:\n",
        "\n",
        "   ```sh\n",
        "   git clone https://github.com/your-username/Portfolio-Analysis.git\n",
        "   ```\n",
        "\n",
        "3. Navigate into the cloned repository:\n",
        "\n",
        "   ```sh\n",
        "   cd Portfolio-Analysis\n",
        "   ```\n",
        "\n",
        "### Step 3: Create a New Branch\n",
        "1. Create a new branch for your changes. Replace `my-feature-branch` with a descriptive name for your branch:\n",
        "\n",
        "   ```sh\n",
        "   git checkout -b my-feature-branch\n",
        "   ```\n",
        "\n",
        "### Step 4: Add Your Notebook\n",
        "1. Add your Jupyter Notebook or any other files you want to contribute to the repository.\n",
        "2. Once you’ve added your files, stage them for commit:\n",
        "\n",
        "   ```sh\n",
        "   git add .\n",
        "   ```\n",
        "\n",
        "### Step 5: Commit Your Changes\n",
        "1. Commit your changes with a meaningful commit message:\n",
        "\n",
        "   ```sh\n",
        "   git commit -m \"Add my notebook for portfolio analysis\"\n",
        "   ```\n",
        "\n",
        "### Step 6: Push Your Branch to GitHub\n",
        "1. Push the new branch to your forked repository on GitHub:\n",
        "\n",
        "   ```sh\n",
        "   git push origin my-feature-branch\n",
        "   ```\n",
        "\n",
        "### Step 7: Create a Pull Request\n",
        "1. Go to your forked repository on GitHub.\n",
        "2. You should see a notification to create a pull request for the branch you just pushed. Click on the \"Compare & pull request\" button.\n",
        "3. Fill in the details for the pull request, making sure to provide a meaningful title and description of the changes you made.\n",
        "4. Select the base repository (`engineerinvestor/Portfolio-Analysis`) and the base branch (`main`) you want to merge your changes into.\n",
        "5. Click the \"Create pull request\" button.\n",
        "\n",
        "### Step 8: Wait for Review\n",
        "1. The repository owner (or maintainers) will review your pull request. They may request changes or approve and merge it.\n",
        "\n",
        "### Summary of Commands\n",
        "Here's a summary of the Git commands you will use:\n",
        "\n",
        "```sh\n",
        "# Clone the repository\n",
        "git clone https://github.com/your-username/Portfolio-Analysis.git\n",
        "\n",
        "# Navigate into the repository\n",
        "cd Portfolio-Analysis\n",
        "\n",
        "# Create a new branch\n",
        "git checkout -b my-feature-branch\n",
        "\n",
        "# Stage your changes\n",
        "git add .\n",
        "\n",
        "# Commit your changes\n",
        "git commit -m \"Add my notebook for portfolio analysis\"\n",
        "\n",
        "# Push the new branch to GitHub\n",
        "git push origin my-feature-branch\n",
        "```\n",
        "\n",
        "Following these steps will help you successfully create a pull request to the Portfolio Analysis repository."
      ],
      "metadata": {
        "id": "FWZCXKuPzHBo"
      }
    }
  ]
}